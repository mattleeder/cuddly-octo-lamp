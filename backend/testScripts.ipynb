{
 "cells": [
  {
   "cell_type": "code",
   "execution_count": null,
   "metadata": {},
   "outputs": [],
   "source": [
    "import aiohttp\n",
    "import asyncio\n",
    "import json\n",
    "import requests"
   ]
  },
  {
   "cell_type": "code",
   "execution_count": null,
   "metadata": {},
   "outputs": [],
   "source": [
    "URL = \"https://localhost:8080/joinQueue\"\n",
    "for _ in range(10):\n",
    "\n",
    "    response = requests.post(URL, json = {\n",
    "        \"time\": 3,\n",
    "        \"increment\": 0,\n",
    "        \"action\": \"join\",\n",
    "    }, headers = {\n",
    "        \"Content-Type\": \"application/json\"\n",
    "    }, verify = False)"
   ]
  },
  {
   "cell_type": "code",
   "execution_count": null,
   "metadata": {},
   "outputs": [],
   "source": [
    "# Test Matchmaking, could use this to grab cookies too\n",
    "\n",
    "import aiohttp\n",
    "import asyncio\n",
    "import json\n",
    "import time\n",
    "\n",
    "# Define an async function to send a POST request\n",
    "async def post_request(session, url):\n",
    "    data = {\n",
    "        \"time\": 3,\n",
    "        \"increment\": 0,\n",
    "        \"action\": \"join\",\n",
    "    }\n",
    "    \n",
    "    headers = {\n",
    "        \"Content-Type\": \"application/json\",\n",
    "    }\n",
    "    \n",
    "    async with session.post(url, json=data, headers=headers) as response:\n",
    "        content_type = response.headers.get('Content-Type', '').lower()\n",
    "        \n",
    "        if 'application/json' in content_type:\n",
    "            return await response.json()\n",
    "        else:\n",
    "            return await response.text()\n",
    "\n",
    "# Function to run multiple requests concurrently\n",
    "async def send_multiple_requests(n, url):\n",
    "    async with aiohttp.ClientSession() as session:\n",
    "        tasks = [post_request(session, url) for _ in range(n)]\n",
    "        # Run the requests concurrently and gather the results\n",
    "        responses = await asyncio.gather(*tasks)\n",
    "        return responses\n",
    "\n",
    "for _ in range(60):\n",
    "    # Example usage: Query the URL 10 times\n",
    "    n = 200  # Number of requests to send\n",
    "    url = \"https://localhost:8080/joinQueue\"  # Replace with your URL\n",
    "\n",
    "    # Send the requests and get the responses\n",
    "    try:\n",
    "        responses = await send_multiple_requests(n, url)\n",
    "    except Exception:\n",
    "        pass\n",
    "\n",
    "\n",
    "    # Print the responses (or handle them as needed)\n",
    "    # responses\n",
    "\n",
    "    time.sleep(0.5)\n"
   ]
  },
  {
   "cell_type": "code",
   "execution_count": null,
   "metadata": {},
   "outputs": [],
   "source": []
  },
  {
   "cell_type": "code",
   "execution_count": null,
   "metadata": {},
   "outputs": [],
   "source": []
  }
 ],
 "metadata": {
  "kernelspec": {
   "display_name": "data",
   "language": "python",
   "name": "python3"
  },
  "language_info": {
   "codemirror_mode": {
    "name": "ipython",
    "version": 3
   },
   "file_extension": ".py",
   "mimetype": "text/x-python",
   "name": "python",
   "nbconvert_exporter": "python",
   "pygments_lexer": "ipython3",
   "version": "3.11.0"
  }
 },
 "nbformat": 4,
 "nbformat_minor": 2
}
